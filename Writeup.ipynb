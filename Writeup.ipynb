{
 "cells": [
  {
   "cell_type": "markdown",
   "id": "ad1f255a",
   "metadata": {},
   "source": [
    "\n",
    "   # Car Price Regression Modeling \n",
    "\n",
    "\n",
    "## Abstract:\n",
    "\n",
    "The goal of this project is to create a model form carvago.com to predict car sales price.\n",
    "\n",
    "## Data:\n",
    "\n",
    "Car data were scraped from carvago.com by using beautifiulsoup and requests libraries. we were able to scrap 5959 rows and 10 columns.Features include car name,price,km_driven,first_registration,power,Automatic,Dieasal,Electruc,\n",
    "Hybrid and Petrol.\n",
    "\n",
    "\n",
    "## Design:\n",
    "\n",
    "After scraping the data we placed it in DataFram and cleanign start, by removing null,duplicate and wrong entries.\n",
    "Then we had to strip and convert data types from str to int.Moreover, we checked the correlation of the data to get a better understanding of our dataset.Last step before modeling is to pickle our data.\n",
    "\n",
    "For linear models we tried simple linear ridge and second degree polynomial and found the last to be the best model.\n",
    "\n",
    "\n",
    "## Tools:\n",
    "Python\n",
    "Pandas\n",
    "NumPy\n",
    "BeautifulSoup\n",
    "Matplot\n",
    "Seaborn\n",
    "Sklearn\n",
    "Patsy\n",
    "request\n",
    "Statsmodels\n",
    "Pickle\n",
    "\n",
    "## Communication:\n",
    "\n",
    "we used powerpoint slides to communicate our finding and results "
   ]
  },
  {
   "cell_type": "code",
   "execution_count": null,
   "id": "ca1ca4ca",
   "metadata": {},
   "outputs": [],
   "source": []
  }
 ],
 "metadata": {
  "kernelspec": {
   "display_name": "Python 3",
   "language": "python",
   "name": "python3"
  },
  "language_info": {
   "codemirror_mode": {
    "name": "ipython",
    "version": 3
   },
   "file_extension": ".py",
   "mimetype": "text/x-python",
   "name": "python",
   "nbconvert_exporter": "python",
   "pygments_lexer": "ipython3",
   "version": "3.8.8"
  }
 },
 "nbformat": 4,
 "nbformat_minor": 5
}
